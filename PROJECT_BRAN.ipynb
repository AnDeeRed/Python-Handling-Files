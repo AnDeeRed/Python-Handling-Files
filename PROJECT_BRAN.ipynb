{
 "cells": [
  {
   "cell_type": "code",
   "execution_count": 3,
   "id": "fe4fbd1c",
   "metadata": {},
   "outputs": [
    {
     "name": "stdout",
     "output_type": "stream",
     "text": [
      "   CHARACTER                                      DIALOGUES\n",
      "36      BRAN                    Jon said he was a deserter.\n",
      "38      BRAN                        Our way is the old way?\n",
      "40      BRAN           Is it true he saw the White Walkers?\n",
      "42      BRAN                               So he was lying?\n",
      "53      BRAN       Where will they go? Their mother’s dead.\n",
      "57      BRAN                                            NO!\n",
      "60      BRAN                                Please, father!\n",
      "64      BRAN                                What about you?\n",
      "83      BRAN   I saw the king! He’s got hundreds of people!\n",
      "85      BRAN      But he’s coming right now! Down our road!\n"
     ]
    }
   ],
   "source": [
    "import pandas as pd\n",
    "df = pd.read_table(\"conv3.txt\",sep = ':')\n",
    "df\n",
    "print(df.loc[df['CHARACTER'] == 'BRAN'])"
   ]
  },
  {
   "cell_type": "code",
   "execution_count": null,
   "id": "1c791ab8",
   "metadata": {},
   "outputs": [],
   "source": []
  },
  {
   "cell_type": "code",
   "execution_count": null,
   "id": "7ad21d44",
   "metadata": {},
   "outputs": [],
   "source": []
  }
 ],
 "metadata": {
  "kernelspec": {
   "display_name": "Python 3 (ipykernel)",
   "language": "python",
   "name": "python3"
  },
  "language_info": {
   "codemirror_mode": {
    "name": "ipython",
    "version": 3
   },
   "file_extension": ".py",
   "mimetype": "text/x-python",
   "name": "python",
   "nbconvert_exporter": "python",
   "pygments_lexer": "ipython3",
   "version": "3.9.7"
  }
 },
 "nbformat": 4,
 "nbformat_minor": 5
}
