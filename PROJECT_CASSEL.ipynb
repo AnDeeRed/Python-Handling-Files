{
 "cells": [
  {
   "cell_type": "code",
   "execution_count": 2,
   "id": "91aa9e64",
   "metadata": {},
   "outputs": [
    {
     "name": "stdout",
     "output_type": "stream",
     "text": [
      "   CHARACTER                                          DIALOGUES\n",
      "22    CASSEL   Lord Stark. My lady. A guardsman just rode in...\n",
      "26    CASSEL                           The law is law, my lady.\n",
      "54    CASSEL                       They don’t belong down here.\n"
     ]
    }
   ],
   "source": [
    "import pandas as pd\n",
    "df = pd.read_table(\"conv3.txt\",sep = ':')\n",
    "df\n",
    "print(df.loc[df['CHARACTER'] == 'CASSEL'])"
   ]
  },
  {
   "cell_type": "code",
   "execution_count": null,
   "id": "1dbede34",
   "metadata": {},
   "outputs": [],
   "source": []
  }
 ],
 "metadata": {
  "kernelspec": {
   "display_name": "Python 3 (ipykernel)",
   "language": "python",
   "name": "python3"
  },
  "language_info": {
   "codemirror_mode": {
    "name": "ipython",
    "version": 3
   },
   "file_extension": ".py",
   "mimetype": "text/x-python",
   "name": "python",
   "nbconvert_exporter": "python",
   "pygments_lexer": "ipython3",
   "version": "3.9.7"
  }
 },
 "nbformat": 4,
 "nbformat_minor": 5
}
