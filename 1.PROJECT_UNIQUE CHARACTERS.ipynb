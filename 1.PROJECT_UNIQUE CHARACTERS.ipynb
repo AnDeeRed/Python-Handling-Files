{
 "cells": [
  {
   "cell_type": "code",
   "execution_count": 2,
   "id": "af63279a",
   "metadata": {},
   "outputs": [],
   "source": [
    "import pandas as pd"
   ]
  },
  {
   "cell_type": "code",
   "execution_count": 64,
   "id": "3e7e6e20",
   "metadata": {},
   "outputs": [],
   "source": [
    "df = pd.read_table(\"conv3.txt\",sep = ':')\n"
   ]
  },
  {
   "cell_type": "code",
   "execution_count": 65,
   "id": "66204e03",
   "metadata": {},
   "outputs": [
    {
     "data": {
      "text/html": [
       "<div>\n",
       "<style scoped>\n",
       "    .dataframe tbody tr th:only-of-type {\n",
       "        vertical-align: middle;\n",
       "    }\n",
       "\n",
       "    .dataframe tbody tr th {\n",
       "        vertical-align: top;\n",
       "    }\n",
       "\n",
       "    .dataframe thead th {\n",
       "        text-align: right;\n",
       "    }\n",
       "</style>\n",
       "<table border=\"1\" class=\"dataframe\">\n",
       "  <thead>\n",
       "    <tr style=\"text-align: right;\">\n",
       "      <th></th>\n",
       "      <th>CHARACTER</th>\n",
       "      <th>DIALOGUES</th>\n",
       "    </tr>\n",
       "  </thead>\n",
       "  <tbody>\n",
       "    <tr>\n",
       "      <th>0</th>\n",
       "      <td>WILL</td>\n",
       "      <td>I’ve never seen wildlings do a thing like this. I’ve never seen a thing like this, not ever in my life.</td>\n",
       "    </tr>\n",
       "    <tr>\n",
       "      <th>1</th>\n",
       "      <td>WAYMAR ROYCE</td>\n",
       "      <td>How close did you get?</td>\n",
       "    </tr>\n",
       "    <tr>\n",
       "      <th>2</th>\n",
       "      <td>WILL</td>\n",
       "      <td>Close as any man would.</td>\n",
       "    </tr>\n",
       "    <tr>\n",
       "      <th>3</th>\n",
       "      <td>GARED</td>\n",
       "      <td>We should head back to the wall.</td>\n",
       "    </tr>\n",
       "    <tr>\n",
       "      <th>4</th>\n",
       "      <td>ROYCE</td>\n",
       "      <td>Do the dead frighten you?</td>\n",
       "    </tr>\n",
       "    <tr>\n",
       "      <th>...</th>\n",
       "      <td>...</td>\n",
       "      <td>...</td>\n",
       "    </tr>\n",
       "    <tr>\n",
       "      <th>107</th>\n",
       "      <td>NED</td>\n",
       "      <td>Tell me about Jon Arryn.</td>\n",
       "    </tr>\n",
       "    <tr>\n",
       "      <th>108</th>\n",
       "      <td>ROBERT</td>\n",
       "      <td>One minute he was fine, and then … Burned right through him, whatever it was. I loved that man.</td>\n",
       "    </tr>\n",
       "    <tr>\n",
       "      <th>109</th>\n",
       "      <td>NED</td>\n",
       "      <td>We both did.</td>\n",
       "    </tr>\n",
       "    <tr>\n",
       "      <th>110</th>\n",
       "      <td>ROBERT</td>\n",
       "      <td>He never had to teach you much, but me … You remember me at 16? All I wanted to do was crack skulls and fuck girls. He showed me what was what.</td>\n",
       "    </tr>\n",
       "    <tr>\n",
       "      <th>111</th>\n",
       "      <td>NED</td>\n",
       "      <td>Aye.</td>\n",
       "    </tr>\n",
       "  </tbody>\n",
       "</table>\n",
       "<p>112 rows × 2 columns</p>\n",
       "</div>"
      ],
      "text/plain": [
       "        CHARACTER  \\\n",
       "0            WILL   \n",
       "1    WAYMAR ROYCE   \n",
       "2            WILL   \n",
       "3           GARED   \n",
       "4           ROYCE   \n",
       "..            ...   \n",
       "107           NED   \n",
       "108        ROBERT   \n",
       "109           NED   \n",
       "110        ROBERT   \n",
       "111           NED   \n",
       "\n",
       "                                                                                                                                            DIALOGUES  \n",
       "0                                             I’ve never seen wildlings do a thing like this. I’ve never seen a thing like this, not ever in my life.  \n",
       "1                                                                                                                              How close did you get?  \n",
       "2                                                                                                                             Close as any man would.  \n",
       "3                                                                                                                    We should head back to the wall.  \n",
       "4                                                                                                                           Do the dead frighten you?  \n",
       "..                                                                                                                                                ...  \n",
       "107                                                                                                                          Tell me about Jon Arryn.  \n",
       "108                                                   One minute he was fine, and then … Burned right through him, whatever it was. I loved that man.  \n",
       "109                                                                                                                                      We both did.  \n",
       "110   He never had to teach you much, but me … You remember me at 16? All I wanted to do was crack skulls and fuck girls. He showed me what was what.  \n",
       "111                                                                                                                                              Aye.  \n",
       "\n",
       "[112 rows x 2 columns]"
      ]
     },
     "execution_count": 65,
     "metadata": {},
     "output_type": "execute_result"
    }
   ],
   "source": [
    "df"
   ]
  },
  {
   "cell_type": "code",
   "execution_count": 66,
   "id": "29e647b2",
   "metadata": {},
   "outputs": [],
   "source": [
    "y = df.CHARACTER.unique()"
   ]
  },
  {
   "cell_type": "code",
   "execution_count": 67,
   "id": "a488146d",
   "metadata": {},
   "outputs": [
    {
     "name": "stdout",
     "output_type": "stream",
     "text": [
      "['WILL' 'WAYMAR ROYCE' 'GARED' 'ROYCE' 'CHARCTER' 'JON' 'SEPTA MORDANE'\n",
      " 'SANSA' 'NED' 'ROBB' 'CASSEL' 'CATELYN' 'BRAN' 'THEON' 'CERSEI' 'JAIME'\n",
      " 'ROBERT' 'ARYA']\n"
     ]
    }
   ],
   "source": [
    "print(y)"
   ]
  },
  {
   "cell_type": "code",
   "execution_count": null,
   "id": "d167163a",
   "metadata": {},
   "outputs": [],
   "source": []
  }
 ],
 "metadata": {
  "kernelspec": {
   "display_name": "Python 3 (ipykernel)",
   "language": "python",
   "name": "python3"
  },
  "language_info": {
   "codemirror_mode": {
    "name": "ipython",
    "version": 3
   },
   "file_extension": ".py",
   "mimetype": "text/x-python",
   "name": "python",
   "nbconvert_exporter": "python",
   "pygments_lexer": "ipython3",
   "version": "3.9.7"
  }
 },
 "nbformat": 4,
 "nbformat_minor": 5
}
