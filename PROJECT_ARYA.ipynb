{
 "cells": [
  {
   "cell_type": "code",
   "execution_count": 1,
   "id": "92ece2f9",
   "metadata": {},
   "outputs": [
    {
     "name": "stdout",
     "output_type": "stream",
     "text": [
      "    CHARACTER                                          DIALOGUES\n",
      "93       ARYA                                   Where’s the Imp?\n",
      "96       ARYA                                              Arya.\n",
      "98       ARYA   That’s Jaime Lannister. The queen’s twin brot...\n",
      "105      ARYA                                   Where’s the Imp?\n"
     ]
    }
   ],
   "source": [
    "import pandas as pd\n",
    "df = pd.read_table(\"conv3.txt\",sep = ':')\n",
    "df\n",
    "print(df.loc[df['CHARACTER'] == 'ARYA'])"
   ]
  },
  {
   "cell_type": "code",
   "execution_count": null,
   "id": "b1ee02ef",
   "metadata": {},
   "outputs": [],
   "source": []
  },
  {
   "cell_type": "code",
   "execution_count": null,
   "id": "3bafec7e",
   "metadata": {},
   "outputs": [],
   "source": []
  }
 ],
 "metadata": {
  "kernelspec": {
   "display_name": "Python 3 (ipykernel)",
   "language": "python",
   "name": "python3"
  },
  "language_info": {
   "codemirror_mode": {
    "name": "ipython",
    "version": 3
   },
   "file_extension": ".py",
   "mimetype": "text/x-python",
   "name": "python",
   "nbconvert_exporter": "python",
   "pygments_lexer": "ipython3",
   "version": "3.9.7"
  }
 },
 "nbformat": 4,
 "nbformat_minor": 5
}
